{
 "cells": [
  {
   "cell_type": "code",
   "execution_count": 1,
   "metadata": {},
   "outputs": [],
   "source": [
    "import cv2\n",
    "from matplotlib import pyplot as plt\n",
    "from lane_detection import Line\n",
    "from video_maker import render_frame\n",
    "import lane_detection\n",
    "import lane_following\n",
    "import numpy as np"
   ]
  },
  {
   "cell_type": "code",
   "execution_count": null,
   "metadata": {},
   "outputs": [],
   "source": [
    "IP_ADDRESS = \"192.168.1.102\""
   ]
  },
  {
   "cell_type": "code",
   "execution_count": null,
   "metadata": {},
   "outputs": [],
   "source": [
    "vcap = cv2.VideoCapture(f\"rtsp://{IP_ADDRESS}:8554/rovcam\")\n",
    "\n",
    "img = None\n",
    "\n",
    "MAX_RETRY = 100\n",
    "count = 0\n",
    "while count < MAX_RETRY:\n",
    "    count += 1\n",
    "    # Obtain the frame\n",
    "    ret, frame = vcap.read()\n",
    "\n",
    "    # Check frame was received successfully\n",
    "    if ret:\n",
    "        # got a frame, close the cap and return the frame\n",
    "        print(\" got a frame \")\n",
    "        img = frame\n",
    "        vcap.release()\n",
    "\n",
    "vcap.release()\n",
    "# if type(img) is not None:\n",
    "#     cv2.imwrite(\"frame_from_auv.jpg\", img)"
   ]
  },
  {
   "cell_type": "code",
   "execution_count": null,
   "metadata": {},
   "outputs": [],
   "source": [
    "type(img)"
   ]
  },
  {
   "cell_type": "code",
   "execution_count": null,
   "metadata": {},
   "outputs": [],
   "source": [
    "plt.imshow(img)"
   ]
  },
  {
   "cell_type": "code",
   "execution_count": null,
   "metadata": {},
   "outputs": [],
   "source": [
    "out = cv2.cvtColor(render_frame(frame), cv2.COLOR_BGR2GRAY )\n",
    "plt.imshow(out)"
   ]
  }
 ],
 "metadata": {
  "kernelspec": {
   "display_name": "bluecv",
   "language": "python",
   "name": "python3"
  },
  "language_info": {
   "codemirror_mode": {
    "name": "ipython",
    "version": 3
   },
   "file_extension": ".py",
   "mimetype": "text/x-python",
   "name": "python",
   "nbconvert_exporter": "python",
   "pygments_lexer": "ipython3",
   "version": "3.9.2"
  },
  "orig_nbformat": 4
 },
 "nbformat": 4,
 "nbformat_minor": 2
}
