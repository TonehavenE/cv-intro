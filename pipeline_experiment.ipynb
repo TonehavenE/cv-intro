{
 "cells": [
  {
   "cell_type": "markdown",
   "metadata": {},
   "source": [
    "## Imports"
   ]
  },
  {
   "cell_type": "code",
   "execution_count": null,
   "metadata": {},
   "outputs": [],
   "source": [
    "import cv2\n",
    "from matplotlib import pyplot as plt\n",
    "from lane_detection import Line\n",
    "from sklearn.cluster import DBSCAN\n",
    "import lane_detection\n",
    "import lane_following\n",
    "import numpy as np"
   ]
  },
  {
   "cell_type": "markdown",
   "metadata": {},
   "source": [
    "## Helper Functions"
   ]
  },
  {
   "cell_type": "code",
   "execution_count": null,
   "metadata": {},
   "outputs": [],
   "source": [
    "def show(img):\n",
    "    plt.imshow(cv2.cvtColor(img, cv2.COLOR_BGR2RGB))\n",
    "    plt.show()"
   ]
  },
  {
   "cell_type": "markdown",
   "metadata": {},
   "source": [
    "## Read Image"
   ]
  },
  {
   "cell_type": "code",
   "execution_count": null,
   "metadata": {},
   "outputs": [],
   "source": [
    "# frame = cv2.imread(\"frames/frame1320.jpg\")\n",
    "frame = cv2.imread(\"frames/frame660.jpg\")\n",
    "show(frame)"
   ]
  },
  {
   "cell_type": "markdown",
   "metadata": {},
   "source": [
    "## Slice Image"
   ]
  },
  {
   "cell_type": "code",
   "execution_count": null,
   "metadata": {},
   "outputs": [],
   "source": [
    "# sliced_frame = frame[ int(frame.shape[0] / 2) : frame.shape[0]]\n",
    "sliced_frame = frame[int(frame.shape[0] / 2) : frame.shape[0]]\n",
    "show(sliced_frame)"
   ]
  },
  {
   "cell_type": "markdown",
   "metadata": {},
   "source": [
    "## Convert to Grayscale"
   ]
  },
  {
   "cell_type": "code",
   "execution_count": null,
   "metadata": {},
   "outputs": [],
   "source": [
    "gray = cv2.cvtColor(sliced_frame, cv2.COLOR_BGR2GRAY)  # convert to grayscale\n",
    "show(gray)\n"
   ]
  },
  {
   "cell_type": "markdown",
   "metadata": {},
   "source": [
    "## Blurring"
   ]
  },
  {
   "cell_type": "code",
   "execution_count": null,
   "metadata": {},
   "outputs": [],
   "source": [
    "blur = cv2.GaussianBlur(gray, (19, 19), 0)\n",
    "show(blur)"
   ]
  },
  {
   "cell_type": "markdown",
   "metadata": {},
   "source": [
    "## Black and White Conversion"
   ]
  },
  {
   "cell_type": "code",
   "execution_count": null,
   "metadata": {},
   "outputs": [],
   "source": [
    "_, bw_image = cv2.threshold(gray, 90, 255, cv2.THRESH_BINARY)\n",
    "show(bw_image)"
   ]
  },
  {
   "cell_type": "markdown",
   "metadata": {},
   "source": [
    "## Erosion"
   ]
  },
  {
   "cell_type": "code",
   "execution_count": null,
   "metadata": {},
   "outputs": [],
   "source": [
    "eroded = cv2.erode(bw_image, (9, 9), iterations = 10)\n",
    "show(eroded)"
   ]
  },
  {
   "cell_type": "markdown",
   "metadata": {},
   "source": [
    "## Edge Detection"
   ]
  },
  {
   "cell_type": "code",
   "execution_count": null,
   "metadata": {},
   "outputs": [],
   "source": [
    "edges = cv2.Canny(\n",
    "    eroded, 20, 100, apertureSize=3\n",
    ")  # detect edges\n",
    "show(edges)\n"
   ]
  },
  {
   "cell_type": "markdown",
   "metadata": {},
   "source": [
    "## Hough Lines to get Lines\n",
    "Edge detection just highlights the edges, HoughLinesP gives us the points describing important edges"
   ]
  },
  {
   "cell_type": "code",
   "execution_count": null,
   "metadata": {},
   "outputs": [],
   "source": [
    "lines = cv2.HoughLinesP(\n",
    "    edges,\n",
    "    rho=1,\n",
    "    theta=np.pi / 180,\n",
    "    threshold=100,\n",
    "    minLineLength=100,\n",
    "    maxLineGap=20,\n",
    ")  # detect lines\n",
    "\n",
    "lines = [Line(line[0][0], line[0][1], line[0][2], line[0][3]) for line in lines]\n",
    "# lines = lane_detection.merge_colinear_lines(lines)\n",
    "print(f\"{len(lines) = }\")\n",
    "drawn = lane_detection.draw_lines(sliced_frame, lines)\n",
    "\n",
    "show(drawn)\n"
   ]
  },
  {
   "cell_type": "markdown",
   "metadata": {},
   "source": [
    "## Group Lines by Slope\n",
    "Using DBSCAN, group the lines"
   ]
  },
  {
   "cell_type": "code",
   "execution_count": null,
   "metadata": {},
   "outputs": [],
   "source": [
    "from lane_detection import draw_lines\n",
    "slopes = [line.slope for line in lines]\n",
    "slopes = np.array(slopes).reshape(-1, 1)  # convert slopes to a 2d array\n",
    "\n",
    "slope_tolerance = 0.1\n",
    "dbscan = DBSCAN(eps=slope_tolerance, min_samples=2)\n",
    "labels = dbscan.fit_predict(slopes)  # labels is a list of clusters, basically\n",
    "\n",
    "def group(labels: list[int], data: list[Any]) -> dict[int, Any]:\n",
    "    grouped_data = {}\n",
    "    for index, element in enumerate(data):\n",
    "        label = labels[index]\n",
    "        if label not in grouped_data:\n",
    "            grouped_data[label] = []\n",
    "        grouped_lines[label].append(element)\n",
    "# Group lines based on the cluster labels\n",
    "grouped_lines = {}\n",
    "for idx, line in enumerate(lines):\n",
    "    label = labels[idx]\n",
    "    if label not in grouped_lines:\n",
    "        grouped_lines[label] = []\n",
    "    grouped_lines[label].append(line)\n",
    "\n",
    "for group in grouped_lines:\n",
    "    show(draw_lines(sliced_frame, grouped_lines[group], random=True))\n",
    "        "
   ]
  },
  {
   "cell_type": "markdown",
   "metadata": {},
   "source": [
    "## Group and Combine Lines by X-Intercept\n",
    "Now we have a dictionary pairing all of the lines with similar slopes together. However, this doesn't work great for all cases. Sometimes you have lines with similar slopes, but that are not actually colinear; that is, they are parallel but not intersecting. \n",
    "Because of such a case, we must first determine whether the lines share similar x-intercepts before we can merge them."
   ]
  },
  {
   "cell_type": "code",
   "execution_count": null,
   "metadata": {},
   "outputs": [],
   "source": [
    "merged_lines = []\n",
    "\n",
    "for label, lines in grouped_lines.items():\n",
    "    print(label, lines)"
   ]
  },
  {
   "cell_type": "code",
   "execution_count": null,
   "metadata": {},
   "outputs": [],
   "source": [
    "import math\n",
    "def detect_lanes(lines: list[Line], height: int = 1080, width: int = 1920, center_lane_tol = 0.5, parallel_tol = 0.5, x_intercept_tol = 250) -> list[tuple[Line, Line]]:\n",
    "    center = width / 2\n",
    "    lanes = []\n",
    "    lines.sort(key=lambda x: x.x_intercept)\n",
    "\n",
    "    for i in range(len(lines[:-1])):\n",
    "        line1 = lines[i]\n",
    "        for j in range(i+1, len(lines[:-1])):\n",
    "            line2 = lines[j]\n",
    "            if line1.is_paired() or line2.is_paired():\n",
    "                print(\"lines are paired\")\n",
    "                break\n",
    "\n",
    "            if math.isclose(line1.slope, -1 * line2.slope, rel_tol=center_lane_tol):\n",
    "                # lines are a lane near the center\n",
    "                line1.paired = True\n",
    "                line2.paired = True\n",
    "                lanes.append((line1, line2))\n",
    "                break # line 1 has a match with line 2, so pick a new line 1\n",
    "\n",
    "            elif math.isclose(line1.slope, line2.slope, rel_tol=parallel_tol):\n",
    "                # slopes are close to parallel\n",
    "                if math.isclose(\n",
    "                    line1.x_intercept, line2.x_intercept, rel_tol=x_intercept_tol\n",
    "                ):\n",
    "                    # x-intercepts are close\n",
    "                    if ((line1.x_intercept > center) and (line2.x_intercept > center)) or (\n",
    "                        (line1.x_intercept < center) and (line2.x_intercept < center)\n",
    "                    ):\n",
    "                        # the lines are probably a pair\n",
    "                        line1.paired = True\n",
    "                        line2.paired = True\n",
    "                        lanes.append((line1, line2))\n",
    "                        break # found a pair, so start a new\n",
    "    return lanes"
   ]
  },
  {
   "cell_type": "code",
   "execution_count": null,
   "metadata": {},
   "outputs": [],
   "source": [
    "lanes = detect_lanes(lines, sliced_frame.shape[0], sliced_frame.shape[1])\n",
    "laned_img = lane_detection.draw_lanes(sliced_frame, lanes)\n",
    "plt.imshow(cv2.cvtColor(laned_img, cv2.COLOR_BGR2RGB))\n",
    "\n",
    "(center_slope, center_intercept) = lane_following.get_lane_center(lanes)\n",
    "\n",
    "direction = lane_following.recommend_direction(center_intercept, center_slope, sliced_frame.shape[1])\n",
    "\n",
    "print(f\"The AUV should go to the {direction}\")"
   ]
  },
  {
   "cell_type": "code",
   "execution_count": null,
   "metadata": {},
   "outputs": [],
   "source": [
    "\n",
    "# cap = cv2.VideoCapture('AUV_Vid.mkv')\n",
    "\n",
    "# count = 0 # the number of frames since the last\n",
    "# frequency = 60 # the number of frames to skip\n",
    "\n",
    "# while cap.isOpened():\n",
    "#     ret, frame = cap.read()\n",
    "#     if count % frequency == 0:\n",
    "#         cv2.imwrite(f\"./frames/frame{count}.jpg\", frame)\n",
    "#         # plt.imshow(cv2.cvtColor(render_frame(frame), cv2.COLOR_BGR2RGB))\n",
    "#         # plt.show()\n",
    "        \n",
    "#     count += 1"
   ]
  }
 ],
 "metadata": {
  "kernelspec": {
   "display_name": "bwsi",
   "language": "python",
   "name": "python3"
  },
  "language_info": {
   "codemirror_mode": {
    "name": "ipython",
    "version": 3
   },
   "file_extension": ".py",
   "mimetype": "text/x-python",
   "name": "python",
   "nbconvert_exporter": "python",
   "pygments_lexer": "ipython3",
   "version": "3.11.4"
  },
  "orig_nbformat": 4
 },
 "nbformat": 4,
 "nbformat_minor": 2
}
